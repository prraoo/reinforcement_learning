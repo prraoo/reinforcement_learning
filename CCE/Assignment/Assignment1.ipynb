{
 "cells": [
  {
   "cell_type": "markdown",
   "metadata": {},
   "source": [
    "## Assignment 1: 15-Arm Bandit Simulation"
   ]
  },
  {
   "cell_type": "code",
   "execution_count": 1,
   "metadata": {
    "collapsed": true
   },
   "outputs": [],
   "source": [
    "import numpy as np\n",
    "import random\n",
    "import matplotlib.pyplot as plt"
   ]
  },
  {
   "cell_type": "code",
   "execution_count": 2,
   "metadata": {
    "collapsed": false
   },
   "outputs": [
    {
     "data": {
      "text/plain": [
       "array([  5.,   6.,   7.,   8.,   9.,  10.,  11.,  12.,  13.,  14.,  15.,\n",
       "        16.,  17.,  18.,  19.])"
      ]
     },
     "execution_count": 2,
     "metadata": {},
     "output_type": "execute_result"
    }
   ],
   "source": [
    "fixed_rewards= np.linspace(5,19,15)\n",
    "fixed_rewards"
   ]
  },
  {
   "cell_type": "code",
   "execution_count": 3,
   "metadata": {
    "collapsed": true
   },
   "outputs": [],
   "source": [
    "prob_rewards = [np.random.normal(x) for x in fixed_rewards]"
   ]
  },
  {
   "cell_type": "markdown",
   "metadata": {
    "collapsed": true
   },
   "source": [
    "### Expected Reward:\n",
    "\n",
    "Q<sub>n+1</sub> = Q<sub>n</sub> + 1/n(R<sub>n</sub>-Q<sub>n</sub>) <br>\n",
    "Q<sub>0</sub>(a) = 5"
   ]
  },
  {
   "cell_type": "code",
   "execution_count": 4,
   "metadata": {
    "collapsed": true
   },
   "outputs": [],
   "source": [
    "Q_0 = 5"
   ]
  },
  {
   "cell_type": "code",
   "execution_count": 5,
   "metadata": {
    "collapsed": false
   },
   "outputs": [
    {
     "data": {
      "text/plain": [
       "1"
      ]
     },
     "execution_count": 5,
     "metadata": {},
     "output_type": "execute_result"
    }
   ],
   "source": [
    "np.random.randint(1,5)"
   ]
  },
  {
   "cell_type": "code",
   "execution_count": 6,
   "metadata": {
    "collapsed": true
   },
   "outputs": [],
   "source": [
    "def rewards(action,fixed=True):\n",
    "    rewards = np.linspace(5,19,15)\n",
    "    \n",
    "    if fixed:\n",
    "        return rewards[action]\n",
    "    else:\n",
    "        rewards = [np.random.normal(x) for x in fixed_rewards]\n",
    "        return rewards[action]"
   ]
  },
  {
   "cell_type": "code",
   "execution_count": 7,
   "metadata": {
    "collapsed": false
   },
   "outputs": [
    {
     "data": {
      "text/plain": [
       "7.347901475060188"
      ]
     },
     "execution_count": 7,
     "metadata": {},
     "output_type": "execute_result"
    }
   ],
   "source": [
    "rewards(2,False)"
   ]
  },
  {
   "cell_type": "code",
   "execution_count": 8,
   "metadata": {
    "collapsed": true
   },
   "outputs": [],
   "source": [
    "# Init\n",
    "Q = {}\n",
    "epsilon = 0.1\n",
    "action_value = {}"
   ]
  },
  {
   "cell_type": "markdown",
   "metadata": {},
   "source": [
    "Q[i][action] = rewards(action)+(1/(i))*(rewards(action)-Q[i-1][action])"
   ]
  },
  {
   "cell_type": "code",
   "execution_count": 22,
   "metadata": {
    "collapsed": false
   },
   "outputs": [
    {
     "name": "stdout",
     "output_type": "stream",
     "text": [
      "13.0 1.0 (13.0, 13.0)\n",
      "13.0 0.5 (13.0, 13.0)\n",
      "13.0 0.3333333333333333 (13.0, 13.0)\n",
      "13.0 0.25 (13.0, 13.0)\n",
      "13.0 0.2 (13.0, 13.0)\n",
      "13.0 0.16666666666666666 (13.0, 13.0)\n",
      "13.0 0.14285714285714285 (13.0, 13.0)\n",
      "13.0 0.125 (13.0, 13.0)\n",
      "13.0 0.1111111111111111 (13.0, 13.0)\n"
     ]
    },
    {
     "data": {
      "image/png": "[encoded data removed]",
      "text/plain": [
       "<matplotlib.figure.Figure at 0x8148da0>"
      ]
     },
     "metadata": {},
     "output_type": "display_data"
    }
   ],
   "source": [
    "for i in range(0,10):\n",
    "    if i == 0:\n",
    "        Q[i] = [5 for i in range(0,15)]\n",
    "        action = np.random.randint(1,15)\n",
    "    else:\n",
    "\n",
    "        Q[i][action] = Q[i-1][action]+(1/(i))*(rewards(action)-Q[i-1][action])\n",
    "        print(Q[i-1][action],(1/(i)),(rewards(action),Q[i-1][action])) \n",
    "        action = np.argmax(Q[i])\n",
    "        \n",
    "    action_value[i] = [np.array(Q[i]).max(),action]\n",
    "    \"\"\"print(\"Iteration: {}\\nQ[i] = {} \\nQ[i] max: {}, action selected: {}\".format(\n",
    "            i,Q[i],np.array(Q[i]).max(),action+1))\"\"\"\n",
    "    Q[i+1] = Q[i]\n",
    "\n",
    "plt.plot(list(action_value.values()))\n",
    "plt.show()"
   ]
  },
  {
   "cell_type": "code",
   "execution_count": 19,
   "metadata": {
    "collapsed": false
   },
   "outputs": [
    {
     "data": {
      "text/plain": [
       "{0: [5, 14],\n",
       " 1: [19.0, 14],\n",
       " 2: [19.0, 14],\n",
       " 3: [19.0, 14],\n",
       " 4: [19.0, 14],\n",
       " 5: [19.0, 14],\n",
       " 6: [19.0, 14],\n",
       " 7: [19.0, 14],\n",
       " 8: [19.0, 14],\n",
       " 9: [19.0, 14]}"
      ]
     },
     "execution_count": 19,
     "metadata": {},
     "output_type": "execute_result"
    }
   ],
   "source": [
    "action_value"
   ]
  },
  {
   "cell_type": "code",
   "execution_count": 20,
   "metadata": {
    "collapsed": false
   },
   "outputs": [
    {
     "data": {
      "image/png": "[encoded data removed]",
      "text/plain": [
       "<matplotlib.figure.Figure at 0x8035fd0>"
      ]
     },
     "metadata": {},
     "output_type": "display_data"
    }
   ],
   "source": [
    "plt.plot(list(action_value.values()))\n",
    "plt.show()"
   ]
  },
  {
   "cell_type": "code",
   "execution_count": null,
   "metadata": {
    "collapsed": true
   },
   "outputs": [],
   "source": []
  }
 ],
 "metadata": {
  "kernelspec": {
   "display_name": "Python 3",
   "language": "python",
   "name": "python3"
  },
  "language_info": {
   "codemirror_mode": {
    "name": "ipython",
    "version": 3
   },
   "file_extension": ".py",
   "mimetype": "text/x-python",
   "name": "python",
   "nbconvert_exporter": "python",
   "pygments_lexer": "ipython3",
   "version": "3.6.0"
  }
 },
 "nbformat": 4,
 "nbformat_minor": 2
}
