{
 "cells": [
  {
   "cell_type": "markdown",
   "metadata": {},
   "source": [
    "## Assignment 1: 15-Arm Bandit Simulation"
   ]
  },
  {
   "cell_type": "code",
   "execution_count": 1,
   "metadata": {},
   "outputs": [],
   "source": [
    "import numpy as np\n",
    "import random\n",
    "import matplotlib.pyplot as plt"
   ]
  },
  {
   "cell_type": "code",
   "execution_count": 2,
   "metadata": {},
   "outputs": [
    {
     "data": {
      "text/plain": [
       "array([ 5.,  6.,  7.,  8.,  9., 10., 11., 12., 13., 14., 15., 16., 17.,\n",
       "       18., 19.])"
      ]
     },
     "execution_count": 2,
     "metadata": {},
     "output_type": "execute_result"
    }
   ],
   "source": [
    "fixed_rewards= np.linspace(5,19,15)\n",
    "fixed_rewards"
   ]
  },
  {
   "cell_type": "code",
   "execution_count": 3,
   "metadata": {},
   "outputs": [],
   "source": [
    "prob_rewards = [np.random.normal(x) for x in fixed_rewards]"
   ]
  },
  {
   "cell_type": "markdown",
   "metadata": {
    "collapsed": true
   },
   "source": [
    "### Expected Reward:\n",
    "\n",
    "Q<sub>n+1</sub> = Q<sub>n</sub> + 1/n(R<sub>n</sub>-Q<sub>n</sub>) <br>\n",
    "Q<sub>0</sub>(a) = 5"
   ]
  },
  {
   "cell_type": "code",
   "execution_count": 4,
   "metadata": {},
   "outputs": [],
   "source": [
    "Q_0 = 5"
   ]
  },
  {
   "cell_type": "code",
   "execution_count": 5,
   "metadata": {},
   "outputs": [
    {
     "data": {
      "text/plain": [
       "0.08707161498674643"
      ]
     },
     "execution_count": 5,
     "metadata": {},
     "output_type": "execute_result"
    }
   ],
   "source": [
    "np.random.rand()"
   ]
  },
  {
   "cell_type": "code",
   "execution_count": 6,
   "metadata": {},
   "outputs": [],
   "source": [
    "def rewards(action,fixed=True):\n",
    "    rewards = np.linspace(5,19,15)\n",
    "    \n",
    "    if fixed:\n",
    "        return rewards[action]\n",
    "    else:\n",
    "        rewards = [np.random.normal(x) for x in fixed_rewards]\n",
    "        return rewards[action]"
   ]
  },
  {
   "cell_type": "code",
   "execution_count": 7,
   "metadata": {},
   "outputs": [
    {
     "data": {
      "text/plain": [
       "6.036556369417947"
      ]
     },
     "execution_count": 7,
     "metadata": {},
     "output_type": "execute_result"
    }
   ],
   "source": [
    "rewards(2,False)"
   ]
  },
  {
   "cell_type": "markdown",
   "metadata": {},
   "source": [
    "Q[i][action] = rewards(action)+(1/(i))*(rewards(action)-Q[i-1][action])"
   ]
  },
  {
   "cell_type": "code",
   "execution_count": 13,
   "metadata": {},
   "outputs": [
    {
     "name": "stdout",
     "output_type": "stream",
     "text": [
      "Iteration 1: 0\n",
      "Q[i] = [5, 5, 5, 5, 5, 5, 5, 5, 5, 5, 5, 5, 5, 5, 5] \n",
      "Q[i] max: 5, action selected: 11\n",
      "Iteration 1: 2000\n",
      "Q[i] = [5, 5, 5, 5.00354583618634, 5.006842313286934, 5.002861383868953, 5.017972821866617, 5.017252606920287, 5.010123996538612, 5.0284103846724895, 15.00129758606885, 5.0204983426445775, 5, 5.007424206152049, 5] \n",
      "Q[i] max: 15.00129758606885, action selected: 11\n",
      "Iteration 1: 4000\n",
      "Q[i] = [5, 5.001842587382077, 5, 5.00354583618634, 5.008444345685199, 5.004413160327091, 5.021760404435561, 5.017252606920287, 5.023265894787758, 5.034128730312083, 15.001660953138632, 5.0204983426445775, 5.003812832937643, 5.007424206152049, 5] \n",
      "Q[i] max: 15.001660953138632, action selected: 11\n"
     ]
    },
    {
     "data": {
      "image/png": "[encoded data removed]",
      "text/plain": [
       "<Figure size 432x288 with 1 Axes>"
      ]
     },
     "metadata": {},
     "output_type": "display_data"
    }
   ],
   "source": [
    "# Init\n",
    "Q = {}\n",
    "epsilon = 0.01\n",
    "action_value = {}\n",
    "\n",
    "for i in range(0,5000):\n",
    "    if i == 0:\n",
    "        Q[i] = [5 for i in range(0,15)]\n",
    "        action = np.random.randint(1,15)\n",
    "    else:\n",
    "        Q[i][action] = Q[i-1][action]+(1/(i+1))*(rewards(action,False)-Q[i-1][action]) \n",
    "        #Q[i][action] = Q[i][action]+0.01*(rewards(action)-Q[i][action]) \n",
    "        #print(Q[i][action],(1/(i)),(rewards(action),Q[i][action])) \n",
    "        \n",
    "        if np.random.rand() > epsilon:\n",
    "            action = np.argmax(Q[i])\n",
    "        else:\n",
    "            action = np.random.randint(1,15)\n",
    "        \n",
    "    action_value[i] = [np.array(Q[i]).max(),action]\n",
    "    if i%2000==0:\n",
    "        print(\"Iteration {}: {}\\nQ[i] = {} \\nQ[i] max: {}, action selected: {}\".format(1%10,\n",
    "                i,Q[i],np.array(Q[i]).max(),action+1))\n",
    "    Q[i+1] = Q[i]\n",
    "\n",
    "plt.plot(list(action_value.values()))\n",
    "plt.show()"
   ]
  },
  {
   "cell_type": "code",
   "execution_count": 12,
   "metadata": {},
   "outputs": [],
   "source": [
    "#action_value"
   ]
  },
  {
   "cell_type": "code",
   "execution_count": 11,
   "metadata": {},
   "outputs": [],
   "source": [
    "#plt.plot(list(action_value.values()))\n",
    "#plt.show()"
   ]
  },
  {
   "cell_type": "code",
   "execution_count": null,
   "metadata": {},
   "outputs": [],
   "source": []
  },
  {
   "cell_type": "code",
   "execution_count": null,
   "metadata": {},
   "outputs": [],
   "source": []
  }
 ],
 "metadata": {
  "kernelspec": {
   "display_name": "Python 3",
   "language": "python",
   "name": "python3"
  },
  "language_info": {
   "codemirror_mode": {
    "name": "ipython",
    "version": 3
   },
   "file_extension": ".py",
   "mimetype": "text/x-python",
   "name": "python",
   "nbconvert_exporter": "python",
   "pygments_lexer": "ipython3",
   "version": "3.5.5"
  }
 },
 "nbformat": 4,
 "nbformat_minor": 2
}
