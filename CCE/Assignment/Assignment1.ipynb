{
 "cells": [
  {
   "cell_type": "markdown",
   "metadata": {},
   "source": [
    "## Assignment 1: 15-Arm Bandit Simulation"
   ]
  },
  {
   "cell_type": "code",
   "execution_count": 79,
   "metadata": {},
   "outputs": [],
   "source": [
    "import numpy as np\n",
    "import random\n",
    "random.seed(1)"
   ]
  },
  {
   "cell_type": "code",
   "execution_count": 80,
   "metadata": {},
   "outputs": [],
   "source": [
    "fixed_rewards= np.linspace(5,19,15)"
   ]
  },
  {
   "cell_type": "code",
   "execution_count": 81,
   "metadata": {},
   "outputs": [],
   "source": [
    "prob_rewards = [np.random.normal(x) for x in fixed_rewards]"
   ]
  },
  {
   "cell_type": "markdown",
   "metadata": {
    "collapsed": true
   },
   "source": [
    "### Expected Reward:\n",
    "\n",
    "Q<sub>n+1</sub> = Q<sub>n</sub> + 1/n(R<sub>n</sub>-Q<sub>n</sub>) <br>\n",
    "Q<sub>0</sub>(a) = 5"
   ]
  },
  {
   "cell_type": "code",
   "execution_count": 82,
   "metadata": {},
   "outputs": [],
   "source": [
    "Q_0 = 5"
   ]
  },
  {
   "cell_type": "code",
   "execution_count": 83,
   "metadata": {},
   "outputs": [
    {
     "data": {
      "text/plain": [
       "3"
      ]
     },
     "execution_count": 83,
     "metadata": {},
     "output_type": "execute_result"
    }
   ],
   "source": [
    "np.random.randint(1,5)"
   ]
  },
  {
   "cell_type": "code",
   "execution_count": 84,
   "metadata": {},
   "outputs": [],
   "source": [
    "def rewards(action,fixed=True):\n",
    "    rewards = np.linspace(5,19,15)\n",
    "    \n",
    "    if fixed:\n",
    "        return rewards[action]\n",
    "    else:\n",
    "        rewards = [np.random.normal(x) for x in fixed_rewards]\n",
    "        return rewards[action]"
   ]
  },
  {
   "cell_type": "code",
   "execution_count": 87,
   "metadata": {},
   "outputs": [
    {
     "data": {
      "text/plain": [
       "6.691196457596447"
      ]
     },
     "execution_count": 87,
     "metadata": {},
     "output_type": "execute_result"
    }
   ],
   "source": [
    "rewards(2,False)"
   ]
  },
  {
   "cell_type": "code",
   "execution_count": 106,
   "metadata": {},
   "outputs": [
    {
     "name": "stdout",
     "output_type": "stream",
     "text": [
      "{0: [5, 5, 5, 5, 5, 5, 5, 5, 5, 5, 5, 5, 5, 5, 5]} 0 6\n",
      "1 [5, 5, 5, 5, 5, 5, 17.0, 5, 5, 5, 5, 5, 5, 5, 5] 6\n",
      "2 [5, 5, 5, 5, 5, 5, 8.0, 5, 5, 5, 5, 5, 5, 5, 5] 6\n",
      "3 [5, 5, 5, 5, 5, 5, 12.0, 5, 5, 5, 5, 5, 5, 5, 5] 6\n",
      "4 [5, 5, 5, 5, 5, 5, 10.75, 5, 5, 5, 5, 5, 5, 5, 5] 6\n",
      "5 [5, 5, 5, 5, 5, 5, 11.05, 5, 5, 5, 5, 5, 5, 5, 5] 6\n",
      "6 [5, 5, 5, 5, 5, 5, 10.991666666666667, 5, 5, 5, 5, 5, 5, 5, 5] 6\n",
      "7 [5, 5, 5, 5, 5, 5, 11.001190476190477, 5, 5, 5, 5, 5, 5, 5, 5] 6\n"
     ]
    }
   ],
   "source": [
    "Q = {}\n",
    "for i in range(0,8):\n",
    "    if i == 0:\n",
    "        Q[i] = [5 for i in range(0,15)]\n",
    "        action = np.random.randint(1,15)\n",
    "        print(Q,i,action)\n",
    "\n",
    "    else:\n",
    "        Q[i][action] = rewards(action)+(1/(i))*(rewards(action)-Q[i-1][action])\n",
    "        action = np.argmax(Q[i])\n",
    "        print(i,Q[i],action)\n",
    "    Q[i+1] = Q[i]"
   ]
  },
  {
   "cell_type": "code",
   "execution_count": 101,
   "metadata": {},
   "outputs": [
    {
     "data": {
      "text/plain": [
       "21.333333333333332"
      ]
     },
     "execution_count": 101,
     "metadata": {},
     "output_type": "execute_result"
    }
   ],
   "source": [
    "Q[0][14]"
   ]
  },
  {
   "cell_type": "code",
   "execution_count": null,
   "metadata": {},
   "outputs": [],
   "source": []
  }
 ],
 "metadata": {
  "kernelspec": {
   "display_name": "Python 3",
   "language": "python",
   "name": "python3"
  },
  "language_info": {
   "codemirror_mode": {
    "name": "ipython",
    "version": 3
   },
   "file_extension": ".py",
   "mimetype": "text/x-python",
   "name": "python",
   "nbconvert_exporter": "python",
   "pygments_lexer": "ipython3",
   "version": "3.5.5"
  }
 },
 "nbformat": 4,
 "nbformat_minor": 2
}
