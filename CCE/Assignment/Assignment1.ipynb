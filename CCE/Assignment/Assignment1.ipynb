{
 "cells": [
  {
   "cell_type": "markdown",
   "metadata": {},
   "source": [
    "## Assignment 1: 15-Arm Bandit Simulation"
   ]
  },
  {
   "cell_type": "code",
   "execution_count": 2,
   "metadata": {
    "collapsed": true
   },
   "outputs": [],
   "source": [
    "import numpy as np\n",
    "import random\n",
    "import matplotlib.pyplot as plt"
   ]
  },
  {
   "cell_type": "code",
   "execution_count": 3,
   "metadata": {
    "collapsed": false
   },
   "outputs": [
    {
     "data": {
      "text/plain": [
       "array([  5.,   6.,   7.,   8.,   9.,  10.,  11.,  12.,  13.,  14.,  15.,\n",
       "        16.,  17.,  18.,  19.])"
      ]
     },
     "execution_count": 3,
     "metadata": {},
     "output_type": "execute_result"
    }
   ],
   "source": [
    "fixed_rewards= np.linspace(5,19,15)\n",
    "fixed_rewards"
   ]
  },
  {
   "cell_type": "code",
   "execution_count": 4,
   "metadata": {
    "collapsed": true
   },
   "outputs": [],
   "source": [
    "prob_rewards = [np.random.normal(x) for x in fixed_rewards]"
   ]
  },
  {
   "cell_type": "markdown",
   "metadata": {
    "collapsed": true
   },
   "source": [
    "### Expected Reward:\n",
    "\n",
    "Q<sub>n+1</sub> = Q<sub>n</sub> + 1/n(R<sub>n</sub>-Q<sub>n</sub>) <br>\n",
    "Q<sub>0</sub>(a) = 5"
   ]
  },
  {
   "cell_type": "code",
   "execution_count": 5,
   "metadata": {
    "collapsed": true
   },
   "outputs": [],
   "source": [
    "Q_0 = 5"
   ]
  },
  {
   "cell_type": "code",
   "execution_count": 6,
   "metadata": {
    "collapsed": false
   },
   "outputs": [
    {
     "data": {
      "text/plain": [
       "0.9794067843772347"
      ]
     },
     "execution_count": 6,
     "metadata": {},
     "output_type": "execute_result"
    }
   ],
   "source": [
    "np.random.rand()"
   ]
  },
  {
   "cell_type": "code",
   "execution_count": 7,
   "metadata": {
    "collapsed": true
   },
   "outputs": [],
   "source": [
    "def rewards(action,fixed=True):\n",
    "    rewards = np.linspace(5,19,15)\n",
    "    \n",
    "    if fixed:\n",
    "        return rewards[action]\n",
    "    else:\n",
    "        rewards = [np.random.normal(x) for x in fixed_rewards]\n",
    "        return rewards[action]"
   ]
  },
  {
   "cell_type": "code",
   "execution_count": 8,
   "metadata": {
    "collapsed": false
   },
   "outputs": [
    {
     "data": {
      "text/plain": [
       "6.028463827099585"
      ]
     },
     "execution_count": 8,
     "metadata": {},
     "output_type": "execute_result"
    }
   ],
   "source": [
    "rewards(2,False)"
   ]
  },
  {
   "cell_type": "markdown",
   "metadata": {},
   "source": [
    "Q[i][action] = rewards(action)+(1/(i))*(rewards(action)-Q[i-1][action])"
   ]
  },
  {
   "cell_type": "code",
   "execution_count": 105,
   "metadata": {
    "collapsed": false
   },
   "outputs": [
    {
     "name": "stdout",
     "output_type": "stream",
     "text": [
      "Iteration 1: 0\n",
      "Q[i] = [5, 5, 5, 5, 5, 5, 5, 5, 5, 5, 5, 5, 5, 5, 5] \n",
      "Q[i] max: 5, action selected: 3\n",
      "Iteration 1: 2000\n",
      "Q[i] = [4.868369676858414, 4.91934789793271, 6.994603791714416, 5.003943385390537, 5.041377473841437, 5.002990269673692, 5.008933662979633, 5.004572829749431, 5.011999406254785, 5.056695917367375, 5.079377880247456, 5.039685035646515, 5.046942402731832, 5.027403716115337, 5.015101853372299] \n",
      "Q[i] max: 6.994603791714416, action selected: 3\n",
      "Iteration 1: 4000\n",
      "Q[i] = [4.868369676858414, 4.9203003937273415, 7.00351581954221, 5.004998292804159, 5.044587097485107, 5.007327290090367, 5.008933662979633, 5.013523473386165, 5.018047394861703, 5.059485835248198, 5.087143804501393, 5.039685035646515, 5.046942402731832, 5.037015667398296, 5.019313360476242] \n",
      "Q[i] max: 7.00351581954221, action selected: 3\n"
     ]
    },
    {
     "data": {
      "image/png": "[encoded data removed]",
      "text/plain": [
       "<matplotlib.figure.Figure at 0x9b5f208>"
      ]
     },
     "metadata": {},
     "output_type": "display_data"
    }
   ],
   "source": [
    "# Init\n",
    "Q = {}\n",
    "epsilon = 0.01\n",
    "action_value = {}\n",
    "\n",
    "for i in range(0,5000):\n",
    "    if i == 0:\n",
    "        Q[i] = [5 for i in range(0,15)]\n",
    "        action = np.random.randint(1,15)\n",
    "    else:\n",
    "        #Q[i][action] = Q[i-1][action]+(1/(i+1))*(rewards(action,False)-Q[i-1][action]) \n",
    "        #Q[i][action] = Q[i][action]+0.01*(rewards(action)-Q[i][action]) \n",
    "        #print(Q[i][action],(1/(i)),(rewards(action),Q[i][action])) \n",
    "        \n",
    "        if np.random.rand() > epsilon:\n",
    "            action = np.argmax(Q[i])\n",
    "        else:\n",
    "            action = np.random.randint(1,15)\n",
    "            \n",
    "        Q[i][action] = Q[i-1][action]+(1/(i+1))*(rewards(action,False)-Q[i-1][action]) \n",
    "        \n",
    "    action_value[i] = [np.array(Q[i]).max(),action]\n",
    "    if i%2000==0:\n",
    "        print(\"Iteration {}: {}\\nQ[i] = {} \\nQ[i] max: {}, action selected: {}\".format(1%10,\n",
    "                i,Q[i],np.array(Q[i]).max(),action+1))\n",
    "    Q[i+1] = Q[i]\n",
    "\n",
    "#plt.plot(list(action_value.values()))\n",
    "plt.plot([action_value[x][0] for x,_ in action_value.items()])\n",
    "\n",
    "plt.show()"
   ]
  },
  {
   "cell_type": "code",
   "execution_count": 10,
   "metadata": {
    "collapsed": false
   },
   "outputs": [],
   "source": [
    "#action_value"
   ]
  },
  {
   "cell_type": "code",
   "execution_count": null,
   "metadata": {
    "collapsed": true
   },
   "outputs": [],
   "source": []
  },
  {
   "cell_type": "code",
   "execution_count": null,
   "metadata": {
    "collapsed": true
   },
   "outputs": [],
   "source": []
  },
  {
   "cell_type": "code",
   "execution_count": 112,
   "metadata": {
    "collapsed": false
   },
   "outputs": [],
   "source": [
    "class Multi_Arm_Bandit:\n",
    "    def __init__(self):\n",
    "        self.K = 15 #number of arms\n",
    "        self.arm_values = np.ones(self.K)*5 #initial arm value\n",
    "        self.Q = np.zeros(self.K)\n",
    "        \n",
    "    def get_reward(self,action,fixed=True):\n",
    "        rewards = np.linspace(5,19,15) #arm values\n",
    "        if fixed:\n",
    "            return rewards[action]\n",
    "        else:\n",
    "            rewards = [np.random.normal(x) for x in fixed_rewards]\n",
    "            return rewards[action]\n",
    "        \n",
    "    def epsilon_greedy(self,epsilon):\n",
    "        random_number = np.random.rand()\n",
    "        if random_number > epsilon:\n",
    "            return np.argmax(Q[i])\n",
    "        else:\n",
    "            return np.random.randint(1,15)\n",
    "        \n",
    "    def update_Q(self,step_value,action,reward):\n",
    "        self.Q[action] += (1/(step_value+1))*(reward-self.Q[action])\n",
    "        print(\"self.Q[action]\",self.Q[action])\n",
    "      "
   ]
  },
  {
   "cell_type": "code",
   "execution_count": 113,
   "metadata": {
    "collapsed": true
   },
   "outputs": [],
   "source": [
    "def experiment(bandit,Npulls,epsilon):\n",
    "    history = []\n",
    "    for i in range(Npulls):\n",
    "        action = bandit.epsilon_greedy(epsilon)\n",
    "        reward = bandit.get_reward(action)\n",
    "        bandit.update_Q(i,action,reward)\n",
    "        history.append(reward)\n",
    "        return np.array(history)\n",
    "        "
   ]
  },
  {
   "cell_type": "code",
   "execution_count": 114,
   "metadata": {
    "collapsed": false
   },
   "outputs": [
    {
     "name": "stdout",
     "output_type": "stream",
     "text": [
      "self.Q[action] 7.0\n",
      "self.Q[action] 7.0\n",
      "self.Q[action] 15.0\n"
     ]
    },
    {
     "data": {
      "image/png": "[encoded data removed]",
      "text/plain": [
       "<matplotlib.figure.Figure at 0x9b28cf8>"
      ]
     },
     "metadata": {},
     "output_type": "display_data"
    }
   ],
   "source": [
    "Nexp = 1\n",
    "Npulls = 3000\n",
    "avg_outcome_eps0p0 = np.zeros(Npulls) \n",
    "avg_outcome_eps0p01 = np.zeros(Npulls) \n",
    "avg_outcome_eps0p1 = np.zeros(Npulls) \n",
    "\n",
    "for i in range(Nexp):\n",
    "    bandit = Multi_Arm_Bandit() \n",
    "    avg_outcome_eps0p0 += experiment(bandit,Npulls,0.0) \n",
    "    #print(avg_outcome_eps0p0)\n",
    "    bandit = Multi_Arm_Bandit() \n",
    "    avg_outcome_eps0p01 += experiment(bandit,Npulls,0.01) \n",
    "    bandit = Multi_Arm_Bandit() \n",
    "    avg_outcome_eps0p1 += experiment(bandit,Npulls,0.1) \n",
    "\n",
    "avg_outcome_eps0p0 /= np.float(Nexp) \n",
    "#print(avg_outcome_eps0p0)\n",
    "avg_outcome_eps0p01 /= np.float(Nexp) \n",
    "avg_outcome_eps0p1 /= np.float(Nexp) \n",
    "\n",
    "# plot results \n",
    "import matplotlib.pyplot as plt \n",
    "plt.plot(avg_outcome_eps0p0,label=\"eps = 0.0\") \n",
    "plt.plot(avg_outcome_eps0p01,label=\"eps = 0.01\") \n",
    "plt.plot(avg_outcome_eps0p1,label=\"eps = 0.1\") \n",
    "#plt.ylim(0,2.2) \n",
    "plt.legend() \n",
    "plt.show()"
   ]
  },
  {
   "cell_type": "code",
   "execution_count": 38,
   "metadata": {
    "collapsed": false
   },
   "outputs": [
    {
     "data": {
      "text/plain": [
       "array([ 5.,  5.,  5.,  5.,  5.,  5.,  5.,  5.,  5.,  5.])"
      ]
     },
     "execution_count": 38,
     "metadata": {},
     "output_type": "execute_result"
    }
   ],
   "source": [
    "np.ones(10)*5"
   ]
  },
  {
   "cell_type": "code",
   "execution_count": 14,
   "metadata": {
    "collapsed": false
   },
   "outputs": [
    {
     "data": {
      "text/plain": [
       "array([-0.78036177, -1.52816803, -0.49524248, -0.60697459, -0.94532041,\n",
       "        0.49381907,  1.1725022 ,  1.1244458 , -1.68892192,  0.85073173])"
      ]
     },
     "execution_count": 14,
     "metadata": {},
     "output_type": "execute_result"
    }
   ],
   "source": [
    "np.random.normal(0,1,10) "
   ]
  },
  {
   "cell_type": "code",
   "execution_count": null,
   "metadata": {
    "collapsed": true
   },
   "outputs": [],
   "source": []
  }
 ],
 "metadata": {
  "kernelspec": {
   "display_name": "Python 3",
   "language": "python",
   "name": "python3"
  },
  "language_info": {
   "codemirror_mode": {
    "name": "ipython",
    "version": 3
   },
   "file_extension": ".py",
   "mimetype": "text/x-python",
   "name": "python",
   "nbconvert_exporter": "python",
   "pygments_lexer": "ipython3",
   "version": "3.6.0"
  }
 },
 "nbformat": 4,
 "nbformat_minor": 2
}
